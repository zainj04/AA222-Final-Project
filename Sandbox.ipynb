{
 "cells": [
  {
   "cell_type": "code",
   "execution_count": 1,
   "id": "9e115d79",
   "metadata": {},
   "outputs": [],
   "source": [
    "import numpy as np\n",
    "import pandas as pd\n",
    "from matplotlib import animation\n",
    "from matplotlib import pyplot as plt\n",
    "\n",
    "from mplsoccer import Pitch"
   ]
  },
  {
   "cell_type": "code",
   "execution_count": 2,
   "id": "2bfef75e",
   "metadata": {},
   "outputs": [],
   "source": [
    "# load away data\n",
    "LINK1 = ('https://raw.githubusercontent.com/metrica-sports/sample-data/master/'\n",
    "         'data/Sample_Game_1/Sample_Game_1_RawTrackingData_Away_Team.csv')\n",
    "df_away = pd.read_csv(LINK1, skiprows=2)\n",
    "df_away.sort_values('Time [s]', inplace=True)\n",
    "\n",
    "# load home data\n",
    "LINK2 = ('https://raw.githubusercontent.com/metrica-sports/sample-data/master/'\n",
    "         'data/Sample_Game_1/Sample_Game_1_RawTrackingData_Home_Team.csv')\n",
    "df_home = pd.read_csv(LINK2, skiprows=2)\n",
    "df_home.sort_values('Time [s]', inplace=True)"
   ]
  },
  {
   "cell_type": "code",
   "execution_count": 3,
   "id": "35ab834a",
   "metadata": {},
   "outputs": [],
   "source": [
    "# column names aren't great so this sets the player ones with _x and _y suffixes\n",
    "\n",
    "\n",
    "def set_col_names(df):\n",
    "    \"\"\" Renames the columns to have x and y suffixes.\"\"\"\n",
    "    cols = list(np.repeat(df.columns[3::2], 2))\n",
    "    cols = [col+'_x' if i % 2 == 0 else col+'_y' for i, col in enumerate(cols)]\n",
    "    cols = np.concatenate([df.columns[:3], cols])\n",
    "    df.columns = cols\n",
    "\n",
    "\n",
    "set_col_names(df_away)\n",
    "set_col_names(df_home)"
   ]
  },
  {
   "cell_type": "code",
   "execution_count": 4,
   "id": "04008c00",
   "metadata": {},
   "outputs": [],
   "source": [
    "# get a subset of the data (10 seconds)\n",
    "df_away = df_away[(df_away['Time [s]'] >= 815) & (df_away['Time [s]'] < 825)].copy()\n",
    "df_home = df_home[(df_home['Time [s]'] >= 815) & (df_home['Time [s]'] < 825)].copy()"
   ]
  },
  {
   "cell_type": "code",
   "execution_count": 5,
   "id": "37ea2846",
   "metadata": {},
   "outputs": [],
   "source": [
    "# split off a df_ball dataframe and drop the ball columns from the player dataframes\n",
    "df_ball = df_away[['Period', 'Frame', 'Time [s]', 'Ball_x', 'Ball_y']].copy()\n",
    "df_home.drop(['Ball_x', 'Ball_y'], axis=1, inplace=True)\n",
    "df_away.drop(['Ball_x', 'Ball_y'], axis=1, inplace=True)\n",
    "df_ball.rename({'Ball_x': 'x', 'Ball_y': 'y'}, axis=1, inplace=True)"
   ]
  },
  {
   "cell_type": "code",
   "execution_count": 6,
   "id": "d42f7868",
   "metadata": {},
   "outputs": [],
   "source": [
    "# convert to long form from wide form\n",
    "def to_long_form(df):\n",
    "    \"\"\" Pivots a dataframe from wide-form (each player as a separate column) to long form (rows)\"\"\"\n",
    "    df = pd.melt(df, id_vars=df.columns[:3], value_vars=df.columns[3:], var_name='player')\n",
    "    df.loc[df.player.str.contains('_x'), 'coordinate'] = 'x'\n",
    "    df.loc[df.player.str.contains('_y'), 'coordinate'] = 'y'\n",
    "    df = df.dropna(axis=0, how='any')\n",
    "    df['player'] = df.player.str[6:-2]\n",
    "    df = (df.set_index(['Period', 'Frame', 'Time [s]', 'player', 'coordinate'])['value']\n",
    "          .unstack()\n",
    "          .reset_index()\n",
    "          .rename_axis(None, axis=1))\n",
    "    return df\n",
    "\n",
    "\n",
    "df_away = to_long_form(df_away)\n",
    "df_home = to_long_form(df_home)"
   ]
  },
  {
   "cell_type": "code",
   "execution_count": 8,
   "id": "7d622e38",
   "metadata": {},
   "outputs": [
    {
     "data": {
      "image/png": "[encoded data removed]",
      "text/plain": [
       "<Figure size 1152x748.8 with 1 Axes>"
      ]
     },
     "metadata": {},
     "output_type": "display_data"
    }
   ],
   "source": [
    "# First set up the figure, the axis\n",
    "pitch = Pitch(pitch_type='metricasports', goal_type='line', pitch_width=68, pitch_length=105)\n",
    "fig, ax = pitch.draw(figsize=(16, 10.4))\n",
    "\n",
    "# then setup the pitch plot markers we want to animate\n",
    "marker_kwargs = {'marker': 'o', 'markeredgecolor': 'black', 'linestyle': 'None'}\n",
    "ball, = ax.plot([], [], ms=6, markerfacecolor='w', zorder=3, **marker_kwargs)\n",
    "away, = ax.plot([], [], ms=10, markerfacecolor='#b94b75', **marker_kwargs)  # red/maroon\n",
    "home, = ax.plot([], [], ms=10, markerfacecolor='#7f63b8', **marker_kwargs)  # purple\n",
    "\n",
    "\n",
    "# animation function\n",
    "def animate(i):\n",
    "    \"\"\" Function to animate the data. Each frame it sets the data for the players and the ball.\"\"\"\n",
    "    # set the ball data with the x and y positions for the ith frame\n",
    "    ball.set_data(df_ball.iloc[i, [3]], df_ball.iloc[i, [4]])\n",
    "    # get the frame id for the ith frame\n",
    "    frame = df_ball.iloc[i, 1]\n",
    "    # set the player data using the frame id\n",
    "    away.set_data(df_away.loc[df_away.Frame == frame, 'x'],\n",
    "                  df_away.loc[df_away.Frame == frame, 'y'])\n",
    "    home.set_data(df_home.loc[df_home.Frame == frame, 'x'],\n",
    "                  df_home.loc[df_home.Frame == frame, 'y'])\n",
    "    return ball, away, home\n",
    "\n",
    "\n",
    "# call the animator, animate so 25 frames per second\n",
    "anim = animation.FuncAnimation(fig, animate, frames=len(df_ball), interval=50, blit=True)\n",
    "plt.show()\n",
    "\n",
    "# note that its hard to get the ffmpeg requirements right.\n",
    "# I installed from conda-forge: see the environment.yml file in the docs folder\n",
    "# how to save animation - commented out for example\n",
    "# anim.save('example.mp4', dpi=150, fps=25,\n",
    "#          extra_args=['-vcodec', 'libx264'],\n",
    "#          savefig_kwargs={'pad_inches':0, 'facecolor':'#457E29'})"
   ]
  },
  {
   "cell_type": "code",
   "execution_count": null,
   "id": "e57f5e9e",
   "metadata": {},
   "outputs": [],
   "source": []
  }
 ],
 "metadata": {
  "kernelspec": {
   "display_name": "Python 3 (ipykernel)",
   "language": "python",
   "name": "python3"
  },
  "language_info": {
   "codemirror_mode": {
    "name": "ipython",
    "version": 3
   },
   "file_extension": ".py",
   "mimetype": "text/x-python",
   "name": "python",
   "nbconvert_exporter": "python",
   "pygments_lexer": "ipython3",
   "version": "3.9.7"
  }
 },
 "nbformat": 4,
 "nbformat_minor": 5
}
